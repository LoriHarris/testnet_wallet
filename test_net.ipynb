{
 "cells": [
  {
   "cell_type": "code",
   "execution_count": 1,
   "metadata": {},
   "outputs": [],
   "source": [
    "from constants import *\n",
    "import os\n",
    "from dotenv import load_dotenv\n",
    "import subprocess\n",
    "import json\n",
    "from pprint import pprint\n",
    "from web3 import Web3\n",
    "from web3.middleware import geth_poa_middleware\n",
    "from eth_account import Account\n",
    "from bit import wif_to_key, PrivateKeyTestnet\n",
    "from bit.network import NetworkAPI\n",
    "\n",
    "from pathlib import Path\n",
    "from getpass import getpass\n",
    "load_dotenv()\n",
    "\n",
    "mnemonic = os.getenv('MNEMONIC')"
   ]
  },
  {
   "cell_type": "code",
   "execution_count": 2,
   "metadata": {},
   "outputs": [],
   "source": [
    "w3 = Web3(Web3.HTTPProvider(\"http://127.0.0.1:8545\"))\n",
    "\n",
    "command = f'php hd-wallet-derive/hd-wallet-derive.php -g --mnemonic=\"{mnemonic}\" --cols=path,address,privkey,pubkey --numderive=3 --format=jsonpretty'"
   ]
  },
  {
   "cell_type": "code",
   "execution_count": 3,
   "metadata": {},
   "outputs": [],
   "source": [
    "p = subprocess.Popen(command, stdout=subprocess.PIPE, shell=True)\n",
    "(output, err) = p.communicate()\n",
    "p_status = p.wait()\n",
    "keys = json.loads(output)\n"
   ]
  },
  {
   "cell_type": "code",
   "execution_count": null,
   "metadata": {},
   "outputs": [],
   "source": []
  },
  {
   "cell_type": "code",
   "execution_count": 4,
   "metadata": {},
   "outputs": [],
   "source": [
    "def derive_wallets(coins=[],numderive=3):\n",
    "    coin_dict ={}\n",
    "    for coin in coins:\n",
    "        command = f'php hd-wallet-derive/hd-wallet-derive.php -g --mnemonic=\"{mnemonic}\" --cols=all --coin={coin} --numderive={numderive} --format=jsonpretty'\n",
    "        p = subprocess.Popen(command, stdout=subprocess.PIPE, shell=True)\n",
    "        (output, err) = p.communicate()\n",
    "        p_status = p.wait()\n",
    "        keys = json.loads(output)\n",
    "#         coin_dict[coin]=coin\n",
    "        coin_dict[coin]=keys\n",
    "  \n",
    "    return coin_dict"
   ]
  },
  {
   "cell_type": "code",
   "execution_count": 18,
   "metadata": {},
   "outputs": [],
   "source": [
    "coins=derive_wallets(coins=[BTCTEST, ETH])"
   ]
  },
  {
   "cell_type": "code",
   "execution_count": 19,
   "metadata": {},
   "outputs": [],
   "source": [
    "# We sent 0.03103952 bitcoins to address\n",
    "# mupLK82DqRXdxcziEPqNaHwVC5jjxZxGkL\n",
    "\n",
    "# tx: 1706485f19458d82393dda5f04378bf40b4cdf9252a8e475913362430e13835e\n",
    "# Send coins back, when you don't need them anymore to the address\n",
    "\n",
    "# mv4rnyY3Su5gjcDNzbMLKBQkBicCtHUtFB\n",
    "\n",
    "# We sent 0.02530328 bitcoins to address\n",
    "# mupLK82DqRXdxcziEPqNaHwVC5jjxZxGkL\n",
    "\n",
    "# tx: a6d8a54f13041aa404271bea065c573a615f66661def8eaada130df7dbeb44df\n",
    "# Send coins back, when you don't need them anymore to the address\n",
    "\n",
    "# mv4rnyY3Su5gjcDNzbMLKBQkBicCtHUtFB\n",
    "\n"
   ]
  },
  {
   "cell_type": "code",
   "execution_count": 20,
   "metadata": {},
   "outputs": [
    {
     "data": {
      "text/plain": [
       "{'path': \"m/44'/60'/0'/0/0\",\n",
       " 'address': '0xf3d5d4201ff0bd522CF613B23E2122f5AC393088',\n",
       " 'xprv': 'xprvA3seeSEcyAiEfKaFWpGDHgBdrfreBcsER1EiCHChfc5YRSvpJAqg6feLBcmBXYHkh3cQ86cycPBASLqLEyeBye4DGrd8eVVuNFRxJZ2NdGB',\n",
       " 'xpub': 'xpub6Gs13wmWoYGXsoeicqoDep8NQhh8b5b5nEAJzfcKDwcXJFFxqi9veTxp2srPGbWhxLoHgE7q5y95nP5Ehq8Av62EPZMWffS8hrcLbjqdWTN',\n",
       " 'privkey': '0xc48be520b745fb04809109b84b1b6b73984462434ef525aa43c05f23cf0f3a53',\n",
       " 'pubkey': '02cc594b3fbf3b714f14b807f69097f3902fef3990a9216f2fc0148e8ca85e7e93',\n",
       " 'pubkeyhash': 'f7237674afc1aa75e253c377586526470ba56a01',\n",
       " 'index': 0}"
      ]
     },
     "execution_count": 20,
     "metadata": {},
     "output_type": "execute_result"
    }
   ],
   "source": [
    "coins['eth'][0]\n"
   ]
  },
  {
   "cell_type": "code",
   "execution_count": 5,
   "metadata": {},
   "outputs": [],
   "source": [
    "def priv_key_to_account(coin):\n",
    "    coins=derive_wallets(coins=[BTCTEST, ETH])\n",
    "    if coin == 'eth':\n",
    "        with open(Path(\"UTC--2019-11-20T02-42-15.118067200Z--b8e45f5aef7bcaa100d5cbd4a69caa7816d639c8\")) as keyfile:\n",
    "            encrypted_key = keyfile.read()\n",
    "            private_key = w3.eth.account.decrypt(\n",
    "                encrypted_key, getpass(\"Enter keystore password: \")\n",
    "            )\n",
    "            key = Account.from_key(private_key)\n",
    "    elif coin == 'btc-test':\n",
    "        key = PrivateKeyTestnet(coins['btc-test'][0]['privkey'])\n",
    "    return key\n",
    "    "
   ]
  },
  {
   "cell_type": "code",
   "execution_count": 32,
   "metadata": {},
   "outputs": [],
   "source": [
    "def create_tx(coin, account, to, amount):\n",
    "    if coin == 'eth':\n",
    "        gasEstimate = w3.eth.estimateGas(\n",
    "        {\"from\": account.address, \"to\": to, \"value\": amount}\n",
    "    )\n",
    "        info = {\n",
    "        \"from\": account.address,\n",
    "        \"to\": to,\n",
    "        \"value\": amount,\n",
    "        \"gasPrice\": w3.eth.gasPrice,\n",
    "        \"gas\": gasEstimate,\n",
    "        \"nonce\": w3.eth.getTransactionCount(account.address),\n",
    "    }\n",
    "    elif coin == 'btc-test':\n",
    "        info = PrivateKeyTestnet.prepare_transaction(str(account.address), [(to, amount, BTC)])\n",
    " \n",
    "    return info        "
   ]
  },
  {
   "cell_type": "code",
   "execution_count": 33,
   "metadata": {},
   "outputs": [],
   "source": [
    "def send_tx(coin, account, to, amount):\n",
    "    tx = create_tx(coin, account, to, amount)\n",
    "    if coin == 'eth':\n",
    "        signed_tx = account.signTransaction(tx)\n",
    "        result = w3.eth.sendRawTransaction(signed_tx.rawTransaction).hex()\n",
    "    elif coin == 'btc-test':\n",
    "        signed_tx = account.sign_transaction(tx)\n",
    "        result = NetworkAPI.broadcast_tx_testnet(signed_tx)\n",
    "    return result\n",
    "    "
   ]
  },
  {
   "cell_type": "code",
   "execution_count": 38,
   "metadata": {},
   "outputs": [],
   "source": [
    "def check_balance(coin):\n",
    "    if coin == ETH:\n",
    "        balance = w3.eth.getBalance(priv_key_to_account(ETH).address)\n",
    "    elif coin == BTCTEST:\n",
    "        balance = priv_key_to_account(BTCTEST).get_balance()\n",
    "    return balance"
   ]
  },
  {
   "cell_type": "code",
   "execution_count": 40,
   "metadata": {},
   "outputs": [
    {
     "data": {
      "text/plain": [
       "'2878496'"
      ]
     },
     "execution_count": 40,
     "metadata": {},
     "output_type": "execute_result"
    }
   ],
   "source": [
    "# key1.get_balance(\"btc\")\n",
    "# key1.get_unspents()\n",
    "# key.create_transaction(outputs,unspents=key.get_unspents())\n",
    "# key.send(outputs,unspents=key.get_unspents())\n",
    "# w3.eth.getBalance(key.address)\n",
    "# PrivateKeyTestnet.prepare_transaction('mupLK82DqRXdxcziEPqNaHwVC5jjxZxGkL', [('mweZvwfg4J3WVYCjXeELCVWouL2LAuuE9b', .01, BTC)])\n",
    "check_balance(BTCTEST)"
   ]
  },
  {
   "cell_type": "code",
   "execution_count": 10,
   "metadata": {},
   "outputs": [
    {
     "data": {
      "text/plain": [
       "'mupLK82DqRXdxcziEPqNaHwVC5jjxZxGkL'"
      ]
     },
     "execution_count": 10,
     "metadata": {},
     "output_type": "execute_result"
    }
   ],
   "source": [
    "# #BTC KEYS:\n",
    "# key = priv_key_to_account(coins['btc-test'][0]['privkey'], 'btc-test')\n",
    "\n",
    "# key1 = priv_key_to_account(coins['btc-test'][1]['privkey'],'btc-test')\n",
    "# key1.address"
   ]
  },
  {
   "cell_type": "code",
   "execution_count": 15,
   "metadata": {},
   "outputs": [],
   "source": [
    "send_tx('btc-test',priv_key_to_account(BTCTEST), 'mupLK82DqRXdxcziEPqNaHwVC5jjxZxGkL', .001)"
   ]
  },
  {
   "cell_type": "code",
   "execution_count": 16,
   "metadata": {},
   "outputs": [
    {
     "data": {
      "text/plain": [
       "['3f16f7fa243fc2b88f72fcdd97426199a561939b68599f332c6f84e8a8fcd4b4',\n",
       " 'd76a82fcc7345bd60a5576e1e3995682d8e9c635cd96ed7470a09ccd1e501436',\n",
       " '1cd47b20f7fa18f66fd6e96c491a258015abfc5f3e169b9153d5d0276f2db38c',\n",
       " 'cee70f8a36458d3692422ce52ba83575d334bac3e6da9f0de9d6b006d14180a1',\n",
       " '60e0b9cbd7402961b5bfeb416fb7fa9d58ac31723467d051798aa35f83877332',\n",
       " 'ca4f9ab7253959659a50af377c2514fd083a4dab2aa0919f33ab8dce133d88d0']"
      ]
     },
     "execution_count": 16,
     "metadata": {},
     "output_type": "execute_result"
    }
   ],
   "source": [
    "priv_key_to_account(BTCTEST).get_transactions()"
   ]
  },
  {
   "cell_type": "code",
   "execution_count": 34,
   "metadata": {},
   "outputs": [
    {
     "name": "stdout",
     "output_type": "stream",
     "text": [
      "Enter keystore password: ········\n"
     ]
    },
    {
     "data": {
      "text/plain": [
       "'0x6c1ded73012b60b670268a99d915987958bbbe2edcca98ccd8acc6d4863275ac'"
      ]
     },
     "execution_count": 34,
     "metadata": {},
     "output_type": "execute_result"
    }
   ],
   "source": [
    "send_tx(ETH,priv_key_to_account(ETH), '0xf3d5d4201ff0bd522CF613B23E2122f5AC393088', 1)"
   ]
  },
  {
   "cell_type": "code",
   "execution_count": 35,
   "metadata": {},
   "outputs": [
    {
     "name": "stdout",
     "output_type": "stream",
     "text": [
      "AttributeDict({'blockHash': HexBytes('0x3d578dd498f5884a7bcdfc12015d5ce8ffaa806236a8218b8b1f0d9233377653'), 'blockNumber': 13929, 'from': '0xB8E45F5aeF7BCaa100D5cBd4a69caa7816d639C8', 'gas': 21000, 'gasPrice': 1000000000, 'hash': HexBytes('0x6c1ded73012b60b670268a99d915987958bbbe2edcca98ccd8acc6d4863275ac'), 'input': '0x', 'nonce': 1, 'to': '0xf3d5d4201ff0bd522CF613B23E2122f5AC393088', 'transactionIndex': 0, 'value': 1, 'v': 27, 'r': HexBytes('0xc9110edb367cd890ea4ed5c281a438a7f8ae233a206b26a417db7842bf5db339'), 's': HexBytes('0x243856bced429d0e7ce42f60d2537c41db2f67ab0f63c92672e79c66c7526ccc')})\n"
     ]
    }
   ],
   "source": [
    "print(w3.eth.getTransaction(\"0x6c1ded73012b60b670268a99d915987958bbbe2edcca98ccd8acc6d4863275ac\"))"
   ]
  },
  {
   "cell_type": "code",
   "execution_count": 37,
   "metadata": {},
   "outputs": [
    {
     "name": "stdout",
     "output_type": "stream",
     "text": [
      "Enter keystore password: ········\n"
     ]
    },
    {
     "data": {
      "text/plain": [
       "904625697166532776746648320380374280103671755200316906559262837061821325309"
      ]
     },
     "execution_count": 37,
     "metadata": {},
     "output_type": "execute_result"
    }
   ],
   "source": [
    "w3.eth.getBalance(priv_key_to_account(ETH).address)"
   ]
  },
  {
   "cell_type": "code",
   "execution_count": null,
   "metadata": {},
   "outputs": [],
   "source": []
  }
 ],
 "metadata": {
  "kernelspec": {
   "display_name": "testgv",
   "language": "python",
   "name": "testgv"
  },
  "language_info": {
   "codemirror_mode": {
    "name": "ipython",
    "version": 3
   },
   "file_extension": ".py",
   "mimetype": "text/x-python",
   "name": "python",
   "nbconvert_exporter": "python",
   "pygments_lexer": "ipython3",
   "version": "3.7.3"
  }
 },
 "nbformat": 4,
 "nbformat_minor": 2
}
